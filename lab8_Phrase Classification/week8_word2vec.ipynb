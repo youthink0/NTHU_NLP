{
 "cells": [
  {
   "cell_type": "markdown",
   "metadata": {},
   "source": [
    "# Introduction to Word Representation"
   ]
  },
  {
   "cell_type": "code",
   "execution_count": 1,
   "metadata": {
    "jupyter": {
     "outputs_hidden": true
    }
   },
   "outputs": [],
   "source": [
    "\"\"\" Import necessary packages we need. \"\"\"\n",
    "\n",
    "import re\n",
    "import json\n",
    "import numpy as np\n",
    "import pandas as pd\n",
    "import gensim\n",
    "import matplotlib.pyplot as plt\n",
    "\n",
    "from scipy.spatial.distance import cosine\n",
    "from sklearn.datasets import load_files\n",
    "from sklearn.model_selection import train_test_split\n",
    "from sklearn.feature_extraction.text import CountVectorizer\n",
    "from sklearn.feature_extraction.text import TfidfVectorizer\n",
    "from sklearn.svm import LinearSVC, SVC\n",
    "from sklearn.metrics import accuracy_score, classification_report\n",
    "\n",
    "from IPython.display import display\n",
    "%matplotlib inline"
   ]
  },
  {
   "cell_type": "code",
   "execution_count": 3,
   "metadata": {
    "jupyter": {
     "outputs_hidden": true
    }
   },
   "outputs": [],
   "source": [
    "\"\"\" Simple text cleaning \"\"\"\n",
    "\n",
    "# Read stopword list\n",
    "#with open('stopwords.txt') as f:\n",
    "#    stopwords = f.readlines()\n",
    "#stopwords = [w.strip() for w in stopwords]\n",
    "\n",
    "stopwords = ['the']\n",
    "\n",
    "# Read dictionary of abbreviation as key and its orginal form as value\n",
    "#with open('abbreviations.json') as f:\n",
    "#    abbr_dict = json.load(f)\n",
    "\n",
    "\"\"\" Preprocessing utility for later use. \"\"\"\n",
    "def clean_text(text):\n",
    "    text = str(text)\n",
    "    # Remove '\\n' and '\\'\n",
    "    text = text.lower().replace(\"\\\\n\", \"\").replace('\\\\', '')\n",
    "    # Replace abbreviation to its orginal form\n",
    "    #for k, v in abbr_dict.items():\n",
    "    #    text = text.replace(k, v)\n",
    "    # Remove non-letters\n",
    "    text = re.sub(\"[^a-zA-Z]\", \" \", text)\n",
    "    # Remove stop words and join the words back into one string separated by space\n",
    "    text = \" \".join([w for w in text.split() if not w in stopwords])\n",
    "    return text"
   ]
  },
  {
   "cell_type": "markdown",
   "metadata": {},
   "source": [
    "## Discrete Representation\n",
    "- Use one-hot vectors in the context of machine learning/deep learning.\n",
    "    - For example, our vocabulary is: {'dog, 'cat', 'bark', 'meow'}\n",
    "    - Then each word represents in one-hot will be:\n",
    "        - vec('dog') : [1, 0, 0, 0]\n",
    "        - vec('cat') : [0, 1, 0, 0]\n",
    "        - vec('bark'): [0, 0, 1, 0]\n",
    "        - vec('meow'): [0, 0, 0, 1]\n",
    "- Problems: \n",
    "    - Hard to measure word similarity.\n",
    "    - Cannot handle missing words.\n",
    "    - Hard to compute semantic relationships (e.g. \"I am good at NLP\" v.s. \"I am a NLP expert\")\n",
    "    - Inefficent to compute when vocabulary size is large.\n",
    "\n",
    "## Distributional Representation\n",
    "\n",
    "- Motivation: Preserve semantic information while having relatively low dimensionality for machine learning/deep learning. \n",
    "- Idea: Distributional hypothesis, \"Words that occur in similar contexts (with the same neighboring words), tend to have similar meanings.\".\n",
    "- Two main approaches: count-based model and predictive model.\n",
    "\n",
    "### Count-based Model\n",
    "- Idea: Compute the statistics of how often some word co-occurs with its neighbor words in a large text corpus, sometimes further maps these count-statistics down to a small, dense vector for each word.\n",
    "- Adavantage: Capture co-occurrence statistics of the corpus (\"global\" information).\n",
    "- Problem: Sparse, matrix is very large to compute (need a lot of memory).\n",
    "- Let's see the following simple example. We basically do the following things:\n",
    "    - Use `CountVectorizer` to build document-term matrix.\n",
    "    - Build word co-occurence matrix from document-term matrix.\n",
    "    - Each row/col of word co-occurence matrix is our word distributional representation.\n",
    "    - Measure the word similarity using cosine similarity.\n",
    "    - Visualize word vectors using SVD."
   ]
  },
  {
   "cell_type": "code",
   "execution_count": 4,
   "metadata": {
    "jupyter": {
     "outputs_hidden": false
    }
   },
   "outputs": [
    {
     "name": "stdout",
     "output_type": "stream",
     "text": [
      "Vocabulary: {'dog': 3, 'run': 6, 'cat': 2, 'sleep': 7, 'bark': 0, 'meows': 5, 'bird': 1, 'fly': 4}\n",
      "Unordered columns: ['dog', 'run', 'cat', 'sleep', 'bark', 'meows', 'bird', 'fly']\n",
      "Ordered columns: ['bark', 'bird', 'cat', 'dog', 'fly', 'meows', 'run', 'sleep']\n",
      "\n",
      "Document-Term Matrix:\n"
     ]
    },
    {
     "data": {
      "text/html": [
       "<div>\n",
       "<style scoped>\n",
       "    .dataframe tbody tr th:only-of-type {\n",
       "        vertical-align: middle;\n",
       "    }\n",
       "\n",
       "    .dataframe tbody tr th {\n",
       "        vertical-align: top;\n",
       "    }\n",
       "\n",
       "    .dataframe thead th {\n",
       "        text-align: right;\n",
       "    }\n",
       "</style>\n",
       "<table border=\"1\" class=\"dataframe\">\n",
       "  <thead>\n",
       "    <tr style=\"text-align: right;\">\n",
       "      <th></th>\n",
       "      <th>bark</th>\n",
       "      <th>bird</th>\n",
       "      <th>cat</th>\n",
       "      <th>dog</th>\n",
       "      <th>fly</th>\n",
       "      <th>meows</th>\n",
       "      <th>run</th>\n",
       "      <th>sleep</th>\n",
       "    </tr>\n",
       "  </thead>\n",
       "  <tbody>\n",
       "    <tr>\n",
       "      <th>the dog run.</th>\n",
       "      <td>0</td>\n",
       "      <td>0</td>\n",
       "      <td>0</td>\n",
       "      <td>1</td>\n",
       "      <td>0</td>\n",
       "      <td>0</td>\n",
       "      <td>1</td>\n",
       "      <td>0</td>\n",
       "    </tr>\n",
       "    <tr>\n",
       "      <th>the cat run.</th>\n",
       "      <td>0</td>\n",
       "      <td>0</td>\n",
       "      <td>1</td>\n",
       "      <td>0</td>\n",
       "      <td>0</td>\n",
       "      <td>0</td>\n",
       "      <td>1</td>\n",
       "      <td>0</td>\n",
       "    </tr>\n",
       "    <tr>\n",
       "      <th>the dog sleep.</th>\n",
       "      <td>0</td>\n",
       "      <td>0</td>\n",
       "      <td>0</td>\n",
       "      <td>1</td>\n",
       "      <td>0</td>\n",
       "      <td>0</td>\n",
       "      <td>0</td>\n",
       "      <td>1</td>\n",
       "    </tr>\n",
       "    <tr>\n",
       "      <th>the cat sleep.</th>\n",
       "      <td>0</td>\n",
       "      <td>0</td>\n",
       "      <td>1</td>\n",
       "      <td>0</td>\n",
       "      <td>0</td>\n",
       "      <td>0</td>\n",
       "      <td>0</td>\n",
       "      <td>1</td>\n",
       "    </tr>\n",
       "    <tr>\n",
       "      <th>the dog bark.</th>\n",
       "      <td>1</td>\n",
       "      <td>0</td>\n",
       "      <td>0</td>\n",
       "      <td>1</td>\n",
       "      <td>0</td>\n",
       "      <td>0</td>\n",
       "      <td>0</td>\n",
       "      <td>0</td>\n",
       "    </tr>\n",
       "    <tr>\n",
       "      <th>the cat meows.</th>\n",
       "      <td>0</td>\n",
       "      <td>0</td>\n",
       "      <td>1</td>\n",
       "      <td>0</td>\n",
       "      <td>0</td>\n",
       "      <td>1</td>\n",
       "      <td>0</td>\n",
       "      <td>0</td>\n",
       "    </tr>\n",
       "    <tr>\n",
       "      <th>the bird fly.</th>\n",
       "      <td>0</td>\n",
       "      <td>1</td>\n",
       "      <td>0</td>\n",
       "      <td>0</td>\n",
       "      <td>1</td>\n",
       "      <td>0</td>\n",
       "      <td>0</td>\n",
       "      <td>0</td>\n",
       "    </tr>\n",
       "    <tr>\n",
       "      <th>the bird sleep.</th>\n",
       "      <td>0</td>\n",
       "      <td>1</td>\n",
       "      <td>0</td>\n",
       "      <td>0</td>\n",
       "      <td>0</td>\n",
       "      <td>0</td>\n",
       "      <td>0</td>\n",
       "      <td>1</td>\n",
       "    </tr>\n",
       "  </tbody>\n",
       "</table>\n",
       "</div>"
      ],
      "text/plain": [
       "                 bark  bird  cat  dog  fly  meows  run  sleep\n",
       "the dog run.        0     0    0    1    0      0    1      0\n",
       "the cat run.        0     0    1    0    0      0    1      0\n",
       "the dog sleep.      0     0    0    1    0      0    0      1\n",
       "the cat sleep.      0     0    1    0    0      0    0      1\n",
       "the dog bark.       1     0    0    1    0      0    0      0\n",
       "the cat meows.      0     0    1    0    0      1    0      0\n",
       "the bird fly.       0     1    0    0    1      0    0      0\n",
       "the bird sleep.     0     1    0    0    0      0    0      1"
      ]
     },
     "metadata": {},
     "output_type": "display_data"
    },
    {
     "name": "stdout",
     "output_type": "stream",
     "text": [
      "\n",
      "Word Co-occurence Matrix:\n"
     ]
    },
    {
     "data": {
      "text/html": [
       "<div>\n",
       "<style scoped>\n",
       "    .dataframe tbody tr th:only-of-type {\n",
       "        vertical-align: middle;\n",
       "    }\n",
       "\n",
       "    .dataframe tbody tr th {\n",
       "        vertical-align: top;\n",
       "    }\n",
       "\n",
       "    .dataframe thead th {\n",
       "        text-align: right;\n",
       "    }\n",
       "</style>\n",
       "<table border=\"1\" class=\"dataframe\">\n",
       "  <thead>\n",
       "    <tr style=\"text-align: right;\">\n",
       "      <th></th>\n",
       "      <th>bark</th>\n",
       "      <th>bird</th>\n",
       "      <th>cat</th>\n",
       "      <th>dog</th>\n",
       "      <th>fly</th>\n",
       "      <th>meows</th>\n",
       "      <th>run</th>\n",
       "      <th>sleep</th>\n",
       "    </tr>\n",
       "  </thead>\n",
       "  <tbody>\n",
       "    <tr>\n",
       "      <th>bark</th>\n",
       "      <td>1</td>\n",
       "      <td>0</td>\n",
       "      <td>0</td>\n",
       "      <td>1</td>\n",
       "      <td>0</td>\n",
       "      <td>0</td>\n",
       "      <td>0</td>\n",
       "      <td>0</td>\n",
       "    </tr>\n",
       "    <tr>\n",
       "      <th>bird</th>\n",
       "      <td>0</td>\n",
       "      <td>1</td>\n",
       "      <td>0</td>\n",
       "      <td>0</td>\n",
       "      <td>1</td>\n",
       "      <td>0</td>\n",
       "      <td>0</td>\n",
       "      <td>1</td>\n",
       "    </tr>\n",
       "    <tr>\n",
       "      <th>cat</th>\n",
       "      <td>0</td>\n",
       "      <td>0</td>\n",
       "      <td>1</td>\n",
       "      <td>0</td>\n",
       "      <td>0</td>\n",
       "      <td>1</td>\n",
       "      <td>1</td>\n",
       "      <td>1</td>\n",
       "    </tr>\n",
       "    <tr>\n",
       "      <th>dog</th>\n",
       "      <td>1</td>\n",
       "      <td>0</td>\n",
       "      <td>0</td>\n",
       "      <td>1</td>\n",
       "      <td>0</td>\n",
       "      <td>0</td>\n",
       "      <td>1</td>\n",
       "      <td>1</td>\n",
       "    </tr>\n",
       "    <tr>\n",
       "      <th>fly</th>\n",
       "      <td>0</td>\n",
       "      <td>1</td>\n",
       "      <td>0</td>\n",
       "      <td>0</td>\n",
       "      <td>1</td>\n",
       "      <td>0</td>\n",
       "      <td>0</td>\n",
       "      <td>0</td>\n",
       "    </tr>\n",
       "    <tr>\n",
       "      <th>meows</th>\n",
       "      <td>0</td>\n",
       "      <td>0</td>\n",
       "      <td>1</td>\n",
       "      <td>0</td>\n",
       "      <td>0</td>\n",
       "      <td>1</td>\n",
       "      <td>0</td>\n",
       "      <td>0</td>\n",
       "    </tr>\n",
       "    <tr>\n",
       "      <th>run</th>\n",
       "      <td>0</td>\n",
       "      <td>0</td>\n",
       "      <td>1</td>\n",
       "      <td>1</td>\n",
       "      <td>0</td>\n",
       "      <td>0</td>\n",
       "      <td>1</td>\n",
       "      <td>0</td>\n",
       "    </tr>\n",
       "    <tr>\n",
       "      <th>sleep</th>\n",
       "      <td>0</td>\n",
       "      <td>1</td>\n",
       "      <td>1</td>\n",
       "      <td>1</td>\n",
       "      <td>0</td>\n",
       "      <td>0</td>\n",
       "      <td>0</td>\n",
       "      <td>1</td>\n",
       "    </tr>\n",
       "  </tbody>\n",
       "</table>\n",
       "</div>"
      ],
      "text/plain": [
       "       bark  bird  cat  dog  fly  meows  run  sleep\n",
       "bark      1     0    0    1    0      0    0      0\n",
       "bird      0     1    0    0    1      0    0      1\n",
       "cat       0     0    1    0    0      1    1      1\n",
       "dog       1     0    0    1    0      0    1      1\n",
       "fly       0     1    0    0    1      0    0      0\n",
       "meows     0     0    1    0    0      1    0      0\n",
       "run       0     0    1    1    0      0    1      0\n",
       "sleep     0     1    1    1    0      0    0      1"
      ]
     },
     "metadata": {},
     "output_type": "display_data"
    },
    {
     "data": {
      "text/plain": [
       "'Word-to-ID dictionary'"
      ]
     },
     "metadata": {},
     "output_type": "display_data"
    },
    {
     "data": {
      "text/plain": [
       "{'dog': 3,\n",
       " 'run': 6,\n",
       " 'cat': 2,\n",
       " 'sleep': 7,\n",
       " 'bark': 0,\n",
       " 'meows': 5,\n",
       " 'bird': 1,\n",
       " 'fly': 4}"
      ]
     },
     "metadata": {},
     "output_type": "display_data"
    },
    {
     "data": {
      "text/plain": [
       "'ID-to-Word dictionary'"
      ]
     },
     "metadata": {},
     "output_type": "display_data"
    },
    {
     "data": {
      "text/plain": [
       "{3: 'dog',\n",
       " 6: 'run',\n",
       " 2: 'cat',\n",
       " 7: 'sleep',\n",
       " 0: 'bark',\n",
       " 5: 'meows',\n",
       " 1: 'bird',\n",
       " 4: 'fly'}"
      ]
     },
     "metadata": {},
     "output_type": "display_data"
    },
    {
     "name": "stdout",
     "output_type": "stream",
     "text": [
      "dog vector: [1 0 0 1 0 0 1 1]\n",
      "cat vector: [0 0 1 0 0 1 1 1]\n",
      "bird vector: [0 1 0 0 1 0 0 1]\n",
      "bark vector: [1 0 0 1 0 0 0 0]\n",
      "\n",
      "dog v.s. cat: 0.5\n",
      "dog v.s. bird: 0.28867513459481287\n",
      "dog v.s. bark: 0.7071067811865475\n",
      "cat v.s. bark: 0.0\n"
     ]
    },
    {
     "data": {
      "image/png": "[encoded data removed]",
      "text/plain": [
       "<Figure size 432x288 with 1 Axes>"
      ]
     },
     "metadata": {
      "needs_background": "light"
     },
     "output_type": "display_data"
    }
   ],
   "source": [
    "# Assume this is our data.\n",
    "documents = [\n",
    "    'the dog run.',\n",
    "    'the cat run.',\n",
    "    'the dog sleep.',\n",
    "    'the cat sleep.',\n",
    "    'the dog bark.',\n",
    "    'the cat meows.',\n",
    "    'the bird fly.',\n",
    "    'the bird sleep.'\n",
    "]\n",
    "\n",
    "# Contruct document-term matrix\n",
    "vectorizer = CountVectorizer(preprocessor=clean_text, analyzer='word', ngram_range=(1, 1))\n",
    "\n",
    "# Or... you can try `TfidfVectorizer`\n",
    "# vectorizer = TfidfVectorizer(preprocessor=clean_text, analyzer='word', ngram_range=(1, 1))\n",
    "\n",
    "document_term_matrix = vectorizer.fit_transform(documents).toarray()\n",
    "\n",
    "# Contruct word-occurence matrix from document-term matrix\n",
    "word_cooccurence_matrix = np.dot(document_term_matrix.T, document_term_matrix)\n",
    "np.fill_diagonal(word_cooccurence_matrix, 1)\n",
    "\n",
    "# Print mapping of term and feature index\n",
    "print('Vocabulary: {}'.format(vectorizer.vocabulary_))\n",
    "\n",
    "# We need to sort key by its index in order to visualize feature index in correct order.\n",
    "ordered_columns = []\n",
    "for col, index in vectorizer.vocabulary_.items():\n",
    "    ordered_columns.append((col, index))\n",
    "ordered_columns.sort(key=lambda x: x[1])\n",
    "ordered_columns = [col for col, index in ordered_columns]\n",
    "\n",
    "# If you iterate dictionary, it won't preserve the order\n",
    "unordered_columns = [col for col, index in vectorizer.vocabulary_.items()]\n",
    "\n",
    "print('Unordered columns: {}'.format(unordered_columns))\n",
    "print('Ordered columns: {}'.format(ordered_columns))\n",
    "\n",
    "# Visualize our document-term matrix\n",
    "print('\\nDocument-Term Matrix:')\n",
    "display(pd.DataFrame(document_term_matrix, index=documents, columns=ordered_columns))\n",
    "# Visualize our word-occurence matrix\n",
    "print('\\nWord Co-occurence Matrix:')\n",
    "display(pd.DataFrame(word_cooccurence_matrix, index=ordered_columns, columns=ordered_columns))\n",
    "\n",
    "word2id = vectorizer.vocabulary_\n",
    "id2word = {x[1]: x[0] for x in word2id.items()}\n",
    "\n",
    "display('Word-to-ID dictionary')\n",
    "display(word2id)\n",
    "display('ID-to-Word dictionary')\n",
    "display(id2word)\n",
    "\n",
    "vector_dog = word_cooccurence_matrix[word2id['dog']]\n",
    "vector_cat = word_cooccurence_matrix[word2id['cat']]\n",
    "vector_bird = word_cooccurence_matrix[word2id['bird']]\n",
    "vector_bark = word_cooccurence_matrix[word2id['bark']]\n",
    "\n",
    "print('dog vector: {}'.format(vector_dog))\n",
    "print('cat vector: {}'.format(vector_cat))\n",
    "print('bird vector: {}'.format(vector_bird))\n",
    "print('bark vector: {}\\n'.format(vector_bark))\n",
    "\n",
    "print('dog v.s. cat: {}'.format(1 - cosine(vector_dog, vector_cat)))\n",
    "print('dog v.s. bird: {}'.format(1 - cosine(vector_dog, vector_bird)))\n",
    "print('dog v.s. bark: {}'.format(1 - cosine(vector_dog, vector_bark)))\n",
    "print('cat v.s. bark: {}'.format(1 - cosine(vector_cat, vector_bark)))\n",
    "\n",
    "# Visualize word vectors using SVD.\n",
    "# Hint: Using TF-IDF will looks better.\n",
    "fig = plt.figure()\n",
    "U, sigma, Vh = np.linalg.svd(word_cooccurence_matrix)\n",
    "ax = fig.add_subplot(111)\n",
    "ax.axis([-1, 1, -1, 1])\n",
    "for i in id2word:\n",
    "    ax.text(U[i, 0], U[i, 1], id2word[i], alpha=0.5, fontsize=20)\n",
    "plt.show()"
   ]
  },
  {
   "cell_type": "markdown",
   "metadata": {},
   "source": [
    "## Predictive Model\n",
    "- Idea: Directly try to predict a word from its neighbors in terms of learned small, dense embedding vectors (considered parameters of the model).\n",
    "- Word2vec: A neural-based(shallow neural network) efficient model (Widely used nowadays)\n",
    "- Adavantage: Scanning context windows across the entire corpus needs less memory than count-based model.\n",
    "- Problem: Need more time to compute.\n",
    "\n",
    "## Word2vec\n",
    "- Two different objectives:\n",
    "    - *Continuous Bag of Words (CBOW)*: Predict target word from context words.\n",
    "    - *Skip-grams*: Predict context words from target word.\n",
    "- Two efficient training algorithms: *Negative Sampling* and *Hierarchical Softmax*.\n",
    "![CBOW-SG](img/cbow-sg.png)\n",
    "- We only introduce *Skip-grams* and *Negative Sampling* here.\n",
    "\n",
    "### Skip-gram\n",
    "- Objective: Given a target word, maximize the probability of the context word (Maximum likelihood estimation). For mathimatical convenience, it's equivalent to **minimizing negative log probability** since product becomes sum.\n",
    "- Maximizing the objective $J(\\theta) = \\prod_{t=1}^{T} \\prod_{-m \\leq j \\leq m, j \\neq 0} p(w_{t+j} | w_t ; \\theta)$ turns to minimizing $J'(\\theta) = -\\frac{1}{T} \\sum_{t=1}^{T} \\sum_{-m \\leq j \\leq m, j \\neq 0} \\log p(w_{t+j} | w_t ; \\theta)$.\n",
    "- $t$ denotes the index of center word, $m$ denotes window size.\n",
    "- With probability defined as: $p(o|c) = \\frac{exp(u_o^T v_c)}{\\sum_{w=1}^W exp(u_w^T v_c)}$, where $o$ denotes output word index, $c$ denotes center(target) word index and $W$ is number of vocabulary.\n",
    "- Dot product $u^T v = u \\cdot v$: Bigger if $u$ and $v$ is similar!\n",
    "- Softmax $\\frac{exp(z_i)}{\\sum_j exp(z_j)}$: $exp(z_i)$ yields positive numbers; dividing $\\sum_j exp(z_j)$ normalizes the output to probability distribution.\n",
    "- Compute gradients of $\\theta$ w.r.t $v_c$ and update $\\theta$ by sochastic gradient descent: $\\theta^{new} = \\theta^{old} - \\alpha\\frac{\\partial}{\\partial\\theta^{old}}J'(\\theta)$, where $\\alpha$ is *learning rate*.\n",
    "- Problem of softmax function: For each training step, we need to do the gigantic sum ($\\sum_{w=1}^W exp(u_w^T v_c)$ term in softmax), which is very computationally expensive.\n",
    "![SG](img/sg.png)\n",
    "\n",
    "### Negative Sampling (Simplified Version of Noise Contrastive Estimation; NCE)\n",
    "- Idea: Instead of doing giganic sum in softmax function, we turn our previous objective into **maximizing probability of true pair (center word paired with word in its context window)** and **minimizing noise pairs (center word paired with a random word)**\n",
    "- New objective is defined as: $\\log\\sigma(u_o^T v_c) + \\sum_{i=1}^k \\mathbb{E}_{j~P(w)}[log \\sigma(-u_j^T v_c)]$, where there are $k$ negative samples for each data sample. $k$ in the range 5–20 are useful for small training datasets, while for large datasets the $k$ can be as\n",
    "small as 2–5.\n",
    "- $\\sigma(x) = \\frac{1}{1 + e^{-x}}$ maps $x$ to 0~1, which mimics the measurement of probability.\n",
    "\n",
    "## More popular word/sentence embeddings to use:\n",
    "- [GloVe: Global Vectors for Word Representation](https://nlp.stanford.edu/projects/glove/)\n",
    "- [FastText by Facebook](https://github.com/facebookresearch/fastText)\n",
    "- [Paragraph2vec/Doc2vec (Extenstion of word2vec)](https://radimrehurek.com/gensim/models/doc2vec.html)\n",
    "- [Skip-Thought Vectors](https://github.com/ryankiros/skip-thoughts)\n",
    "- [Sense2Vec](https://github.com/explosion/sense2vec)\n",
    "- https://github.com/Hironsan/awesome-embedding-models\n",
    "\n",
    "## Relative papers:\n",
    "- [Don’t count, predict! A systematic comparison ofcontext-counting vs. context-predicting semantic vectors](http://clic.cimec.unitn.it/marco/publications/acl2014/baroni-etal-countpredict-acl2014.pdf)\n",
    "- [Efficient Estimation of Word Representations in Vector Space](https://arxiv.org/pdf/1301.3781.pdf)\n",
    "- [Distributed Representations of Words and Phrases and their Compositionality](https://papers.nips.cc/paper/5021-distributed-representations-of-words-and-phrases-and-their-compositionality.pdf)\n",
    "- [word2vec Explained: Deriving Mikolov et al.’s Negative-Sampling Word-Embedding Method](https://arxiv.org/pdf/1402.3722v1.pdf)\n",
    "- [Neural Word Embedding as Implicit Matrix Factorization](https://arxiv.org/pdf/1402.3722v1.pdf)\n",
    "- [GloVe: Global Vectors for Word Representation](https://nlp.stanford.edu/pubs/glove.pdf)\n",
    "- [Improving Distributional Similarity with Lessons Learned from Word Embeddings](http://www.aclweb.org/anthology/Q15-1016)\n",
    "- [Evaluation methods for unsupervised word embeddings](http://www.aclweb.org/anthology/D15-1036)\n",
    "\n",
    "## Reference:\n",
    "The above content is covered in more detail on [Standford Cs224d Deep learning for NLP](http://web.stanford.edu/class/cs224n/lectures/cs224n-2017-lecture2.pdf)"
   ]
  },
  {
   "cell_type": "code",
   "execution_count": 7,
   "metadata": {},
   "outputs": [
    {
     "name": "stdout",
     "output_type": "stream",
     "text": [
      "Input for word2vec:\n"
     ]
    },
    {
     "data": {
      "text/plain": [
       "[['dog', 'run'],\n",
       " ['cat', 'run'],\n",
       " ['dog', 'sleep'],\n",
       " ['cat', 'sleep'],\n",
       " ['dog', 'bark'],\n",
       " ['cat', 'meows'],\n",
       " ['bird', 'fly'],\n",
       " ['bird', 'sleep']]"
      ]
     },
     "metadata": {},
     "output_type": "display_data"
    }
   ],
   "source": [
    "# Assume this is our data.\n",
    "documents = [\n",
    "    'the dog run.',\n",
    "    'the cat run.',\n",
    "    'the dog sleep.',\n",
    "    'the cat sleep.',\n",
    "    'the dog bark.',\n",
    "    'the cat meows.',\n",
    "    'the bird fly.',\n",
    "    'the bird sleep.'\n",
    "]\n",
    "\n",
    "# Clean text.\n",
    "documents = [clean_text(doc) for doc in documents]\n",
    "# Prepare input format for training word2vec.\n",
    "documents = [doc.split() for doc in documents]\n",
    "print('Input for word2vec:')\n",
    "display(documents)"
   ]
  },
  {
   "cell_type": "code",
   "execution_count": 10,
   "metadata": {},
   "outputs": [
    {
     "name": "stdout",
     "output_type": "stream",
     "text": [
      "Training word2vec ...\n",
      "\n",
      "Attributes in word2vec model:\n"
     ]
    },
    {
     "data": {
      "text/plain": [
       "{'vector_size': 2,\n",
       " 'index_to_key': ['sleep',\n",
       "  'cat',\n",
       "  'dog',\n",
       "  'bird',\n",
       "  'run',\n",
       "  'fly',\n",
       "  'meows',\n",
       "  'bark'],\n",
       " 'next_index': 0,\n",
       " 'key_to_index': {'sleep': 0,\n",
       "  'cat': 1,\n",
       "  'dog': 2,\n",
       "  'bird': 3,\n",
       "  'run': 4,\n",
       "  'fly': 5,\n",
       "  'meows': 6,\n",
       "  'bark': 7},\n",
       " 'vectors': array([[-0.02681136,  0.01182151],\n",
       "        [ 0.25516748,  0.45046365],\n",
       "        [-0.4651475 , -0.35584044],\n",
       "        [ 0.32294357,  0.4486494 ],\n",
       "        [-0.2507714 , -0.18816864],\n",
       "        [ 0.36902523, -0.07667363],\n",
       "        [-0.22683072,  0.32770252],\n",
       "        [-0.24300802, -0.09080088]], dtype=float32),\n",
       " 'norms': None,\n",
       " 'expandos': {'count': array([3, 3, 3, 2, 2, 1, 1, 1]),\n",
       "  'sample_int': array([336566555, 336566555, 336566555, 418513291, 418513291, 611994641,\n",
       "         611994641, 611994641], dtype=uint32)},\n",
       " 'mapfile_path': None,\n",
       " 'vectors_lockf': array([1.], dtype=float32)}"
      ]
     },
     "metadata": {},
     "output_type": "display_data"
    }
   ],
   "source": [
    "# Start to train word2vec.\n",
    "\"\"\"\n",
    "    @param `sg`: sg defines the training algorithm (skip-gram). By default (sg=0), CBOW is used. Otherwise (sg=1).\n",
    "    @param `size`: number of dimension of the feature vectors.\n",
    "    @param `window`: maximum distance between the current and predicted word within a sentence.\n",
    "    @param `min_count`: ignore all words with total frequency lower than this.\n",
    "    @param `negative`: Specifies how many “noise words” should be drawn (usually between 5-20). (Default=5).\n",
    "                       5–20 are useful for small training datasets, while for large datasets the k can be as\n",
    "                       small as 2–5\n",
    "    More detail on: https://radimrehurek.com/gensim/models/word2vec.html\n",
    "\"\"\"\n",
    "print('Training word2vec ...\\n')\n",
    "model_w2v = gensim.models.Word2Vec(documents, sg=1, vector_size=2, window=3, min_count=1, negative=5)\n",
    "#model_w2v = gensim.models.Word2Vec(documents, sg=1, window=3, min_count=1, negative=5)\n",
    "print('Attributes in word2vec model:')\n",
    "display(vars(model_w2v.wv))"
   ]
  },
  {
   "cell_type": "code",
   "execution_count": 19,
   "metadata": {},
   "outputs": [
    {
     "name": "stdout",
     "output_type": "stream",
     "text": [
      "<class 'gensim.models.word2vec.Word2Vec'>\n"
     ]
    }
   ],
   "source": [
    "print(type(model_w2v))"
   ]
  },
  {
   "cell_type": "markdown",
   "metadata": {},
   "source": [
    "# Visualize word vectors.\n",
    "min_x = np.min(model_w2v.wv.vectors[:, 0]) - 0.1\n",
    "max_x = np.max(model_w2v.wv.vectors[:, 0]) + 0.1\n",
    "min_y = np.min(model_w2v.wv.vectors[:, 1]) - 0.1\n",
    "max_y = np.max(model_w2v.wv.vectors[:, 1]) + 0.1\n",
    "\n",
    "fig = plt.figure()\n",
    "ax = fig.add_subplot(111)\n",
    "ax.axis([min_x, max_x, min_y, max_y])\n",
    "for word in model_w2v.wv.index_to_key:\n",
    "    vec = model_w2v.wv[word]\n",
    "    ax.text(vec[0], vec[1], word, alpha=0.5, fontsize=20)\n",
    "plt.show()"
   ]
  },
  {
   "cell_type": "code",
   "execution_count": 17,
   "metadata": {
    "jupyter": {
     "outputs_hidden": false
    }
   },
   "outputs": [
    {
     "name": "stdout",
     "output_type": "stream",
     "text": [
      "Most similar word to \"dog\":\n"
     ]
    },
    {
     "data": {
      "text/plain": [
       "[('run', 0.9999567270278931),\n",
       " ('bark', 0.9566723704338074),\n",
       " ('sleep', 0.4816076159477234),\n",
       " ('meows', -0.04755614697933197),\n",
       " ('fly', -0.6540317535400391)]"
      ]
     },
     "metadata": {},
     "output_type": "display_data"
    },
    {
     "name": "stdout",
     "output_type": "stream",
     "text": [
      "Most similar word to \"cat\":\n"
     ]
    },
    {
     "data": {
      "text/plain": [
       "[('bird', 0.9941185712814331),\n",
       " ('meows', 0.4349167048931122),\n",
       " ('fly', 0.3055635690689087),\n",
       " ('sleep', -0.09994927793741226),\n",
       " ('bark', -0.7662464380264282)]"
      ]
     },
     "metadata": {},
     "output_type": "display_data"
    },
    {
     "name": "stdout",
     "output_type": "stream",
     "text": [
      "Most similar word to \"bird\":\n"
     ]
    },
    {
     "data": {
      "text/plain": [
       "[('cat', 0.9941185712814331),\n",
       " ('fly', 0.40688464045524597),\n",
       " ('meows', 0.3348395824432373),\n",
       " ('sleep', -0.20711712539196014),\n",
       " ('bark', -0.8313261866569519)]"
      ]
     },
     "metadata": {},
     "output_type": "display_data"
    }
   ],
   "source": [
    "# You can use `most_similar()` to explore the top-5 similar words.\n",
    "# Cosine similarity has a range of [-1, 1]\n",
    "# You could interpret negative scores as \"opposite meaning\".\n",
    "print('Most similar word to \"dog\":')\n",
    "display(model_w2v.wv.most_similar('dog', topn=5))\n",
    "\n",
    "print('Most similar word to \"cat\":')\n",
    "display(model_w2v.wv.most_similar('cat', topn=5))\n",
    "\n",
    "print('Most similar word to \"bird\":')\n",
    "display(model_w2v.wv.most_similar('bird', topn=5))"
   ]
  }
 ],
 "metadata": {
  "anaconda-cloud": {},
  "kernelspec": {
   "display_name": "Python 3",
   "language": "python",
   "name": "python3"
  },
  "language_info": {
   "codemirror_mode": {
    "name": "ipython",
    "version": 3
   },
   "file_extension": ".py",
   "mimetype": "text/x-python",
   "name": "python",
   "nbconvert_exporter": "python",
   "pygments_lexer": "ipython3",
   "version": "3.8.8"
  }
 },
 "nbformat": 4,
 "nbformat_minor": 4
}
