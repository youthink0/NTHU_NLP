{
 "cells": [
  {
   "cell_type": "markdown",
   "metadata": {},
   "source": [
    "# Week 08: Phrase Classification\n",
    "The assignment this week needs you to distinguish between good and bad phrases of the word \"**earn**\" (e.g., earn money). The method, word2vector, learned today will be used in the process. \n",
    "\n",
    "There're some data for this assignment: \n",
    "* train.tsv: Some phrases with labels to train and validate the classification model. There are only two types of label: 1 means *good*; 0 means *bad*.\n",
    "* test.tsv: Same format as train.tsv. It's used to test your model.\n",
    "* GoogleNews-vectors-negative300.bin.gz: a pre-trained word2vector model trained by Google ([source](https://code.google.com/archive/p/word2vec/))"
   ]
  },
  {
   "cell_type": "markdown",
   "metadata": {},
   "source": [
    "## Requirement\n",
    "* pandas\n",
    "* tensorflow\n",
    "* sklearn"
   ]
  },
  {
   "cell_type": "markdown",
   "metadata": {},
   "source": [
    "## Read Data\n",
    "We use dataframe to store data here."
   ]
  },
  {
   "cell_type": "code",
   "execution_count": 103,
   "metadata": {},
   "outputs": [
    {
     "name": "stdout",
     "output_type": "stream",
     "text": [
      "                         phrase  class\n",
      "0      earn a strong reputation      1\n",
      "1  Marty will surely earn every      0\n",
      "2             to earn between $      0\n",
      "3          to earn some college      0\n",
      "4        that earn rave reviews      0\n",
      "                   phrase  class\n",
      "0  degree earn 62 percent      0\n",
      "1     earn maybe 30 or 50      0\n",
      "2  earn the kind of money      1\n",
      "3      earn his 14th save      1\n",
      "4   earn a smaller amount      1\n"
     ]
    }
   ],
   "source": [
    "import pandas as pd\n",
    "def loadData(path):\n",
    "    ngram = []\n",
    "    _class = []\n",
    "    with open(path) as f:\n",
    "        for line in f.readlines():\n",
    "            line = line.strip(\"\\n\").split(\"\\t\")\n",
    "            ngram.append(line[0])\n",
    "            _class.append(int(line[1]))\n",
    "    return pd.DataFrame({\"phrase\":ngram,\"class\":_class})\n",
    "train = loadData(\"train.tsv\")\n",
    "print(train.head())\n",
    "test = loadData(\"test.tsv\")    \n",
    "print(test.head())"
   ]
  },
  {
   "cell_type": "markdown",
   "metadata": {},
   "source": [
    "## load word2vec model\n",
    "<font color=\"red\">**[ TODO ]**</font> Please load [GoogleNews-vectors-negative300.bin.gz](https://drive.google.com/file/d/0B7XkCwpI5KDYNlNUTTlSS21pQmM/edit?resourcekey=0-wjGZdNAUop6WykTtMip30g) model and check the embedding of the word `language`.\n",
    "\n",
    "* package `gensim` is a good choice"
   ]
  },
  {
   "cell_type": "code",
   "execution_count": 2,
   "metadata": {},
   "outputs": [],
   "source": [
    "import gensim\n",
    "from gensim.models import Word2Vec, KeyedVectors\n",
    "\n",
    "w2v_model = KeyedVectors.load_word2vec_format('GoogleNews-vectors-negative300.bin', binary=True)\n",
    "#print(w2v_model.head()) #'KeyedVectors' object has no attribute 'head'\n",
    "#### print \"language\" embedding "
   ]
  },
  {
   "cell_type": "code",
   "execution_count": 78,
   "metadata": {},
   "outputs": [
    {
     "name": "stdout",
     "output_type": "stream",
     "text": [
      "3000000\n"
     ]
    },
    {
     "data": {
      "text/plain": [
       "array([ 2.30712891e-02,  1.68457031e-02,  1.54296875e-01,  1.27929688e-01,\n",
       "       -2.67578125e-01,  3.51562500e-02,  1.19140625e-01,  2.48046875e-01,\n",
       "        1.93359375e-01, -7.95898438e-02,  1.46484375e-01, -1.43554688e-01,\n",
       "       -3.04687500e-01,  3.46679688e-02, -1.85546875e-02,  1.06933594e-01,\n",
       "       -1.52343750e-01,  2.89062500e-01,  2.35595703e-02, -3.80859375e-01,\n",
       "        1.09863281e-01,  4.41406250e-01,  3.75976562e-02, -1.22680664e-02,\n",
       "        1.62353516e-02, -2.24609375e-01,  7.61718750e-02, -3.12500000e-02,\n",
       "       -2.16064453e-02,  1.49414062e-01, -4.02832031e-02, -4.46777344e-02,\n",
       "       -1.72851562e-01,  3.32031250e-02,  1.50390625e-01, -5.05371094e-02,\n",
       "        2.72216797e-02,  3.00781250e-01, -1.33789062e-01, -7.56835938e-02,\n",
       "        1.93359375e-01, -1.98242188e-01, -1.27563477e-02,  4.19921875e-01,\n",
       "       -2.19726562e-01,  1.44531250e-01, -3.93066406e-02,  1.94335938e-01,\n",
       "       -3.12500000e-01,  1.84570312e-01,  1.48773193e-04, -1.67968750e-01,\n",
       "       -7.37304688e-02, -3.12500000e-02,  1.57226562e-01,  3.30078125e-01,\n",
       "       -1.42578125e-01, -3.16406250e-01, -7.32421875e-02, -5.76171875e-02,\n",
       "        1.02050781e-01, -1.08886719e-01,  1.24023438e-01, -2.50244141e-02,\n",
       "       -2.49023438e-01,  1.25976562e-01, -1.79687500e-01,  3.32031250e-01,\n",
       "        7.14111328e-03,  2.51953125e-01,  4.34570312e-02, -4.34570312e-02,\n",
       "       -3.90625000e-01,  1.76757812e-01, -1.13525391e-02, -1.97753906e-02,\n",
       "        2.79296875e-01,  2.36328125e-01,  1.19140625e-01,  5.59082031e-02,\n",
       "        1.73828125e-01, -1.10839844e-01, -4.95605469e-02,  2.13867188e-01,\n",
       "        6.17675781e-02,  1.38671875e-01, -4.45556641e-03,  2.55859375e-01,\n",
       "        1.80664062e-01,  5.88378906e-02, -6.59179688e-02, -2.08007812e-01,\n",
       "       -1.19140625e-01, -1.57226562e-01,  5.02929688e-02, -6.29882812e-02,\n",
       "        5.00488281e-02, -7.27539062e-02,  1.74560547e-02, -3.56445312e-02,\n",
       "       -1.93359375e-01,  3.93066406e-02, -3.36914062e-02, -1.07421875e-01,\n",
       "        5.78613281e-02, -8.20312500e-02,  1.74560547e-02, -1.65039062e-01,\n",
       "        1.46484375e-01, -3.08837891e-02, -3.86718750e-01,  2.49023438e-01,\n",
       "        8.74023438e-02, -2.15820312e-01, -4.10156250e-02,  1.60156250e-01,\n",
       "        1.85546875e-01, -2.27050781e-02, -3.73535156e-02,  7.86132812e-02,\n",
       "       -1.46484375e-01,  6.78710938e-02,  1.26953125e-01,  3.30078125e-01,\n",
       "        1.11328125e-01,  9.27734375e-02, -3.45703125e-01, -1.41601562e-01,\n",
       "       -5.29785156e-02, -1.50390625e-01, -7.81250000e-02, -1.27929688e-01,\n",
       "       -4.02343750e-01, -1.41601562e-01,  8.44726562e-02,  1.08398438e-01,\n",
       "       -4.44335938e-02,  3.73535156e-02,  5.61523438e-02, -1.91406250e-01,\n",
       "        1.54296875e-01, -5.12695312e-02, -6.49414062e-02, -8.30078125e-02,\n",
       "        7.17773438e-02, -1.33789062e-01,  1.05468750e-01,  3.33984375e-01,\n",
       "       -1.08398438e-01,  1.91650391e-02,  2.14843750e-01,  2.15820312e-01,\n",
       "       -1.05468750e-01, -1.44531250e-01,  4.32128906e-02, -2.71484375e-01,\n",
       "       -3.78906250e-01,  1.09863281e-01, -8.15429688e-02, -6.12792969e-02,\n",
       "       -1.33789062e-01,  9.71679688e-02, -1.04370117e-02, -1.21093750e-01,\n",
       "       -2.44140625e-01,  1.02050781e-01,  1.10839844e-01, -1.00585938e-01,\n",
       "        1.71875000e-01, -3.61328125e-02, -4.39453125e-02,  2.83203125e-01,\n",
       "       -8.93554688e-02, -1.70898438e-01,  2.46093750e-01,  1.16699219e-01,\n",
       "        8.39843750e-02, -1.32812500e-01, -1.61132812e-01, -1.39648438e-01,\n",
       "       -8.59375000e-02, -1.37695312e-01, -9.32617188e-02, -1.33789062e-01,\n",
       "        1.65039062e-01,  4.93164062e-02, -1.21093750e-01, -2.11914062e-01,\n",
       "        1.61132812e-01, -1.07421875e-01, -3.97949219e-02, -3.51562500e-01,\n",
       "       -5.02929688e-02,  1.46484375e-01, -4.68750000e-02,  4.17480469e-02,\n",
       "       -1.27929688e-01, -9.76562500e-02, -2.46093750e-01,  6.78710938e-02,\n",
       "       -2.30468750e-01,  1.80664062e-02,  3.54003906e-02,  7.32421875e-02,\n",
       "       -2.23632812e-01, -1.25976562e-01,  2.12890625e-01, -3.93066406e-02,\n",
       "       -2.41699219e-02, -9.61914062e-02,  7.51953125e-02, -1.46484375e-01,\n",
       "       -1.49414062e-01, -8.83789062e-02, -4.88281250e-02,  2.32421875e-01,\n",
       "        3.30078125e-01,  1.59179688e-01, -2.35351562e-01, -1.25976562e-01,\n",
       "        2.68554688e-02, -5.29785156e-02, -6.59179688e-02, -2.17773438e-01,\n",
       "       -6.37817383e-03, -2.53906250e-01,  2.28515625e-01,  4.93164062e-02,\n",
       "        3.54003906e-02,  1.66992188e-01, -7.27539062e-02, -2.53906250e-01,\n",
       "       -1.34765625e-01,  3.69140625e-01,  1.83593750e-01, -1.64062500e-01,\n",
       "        2.26562500e-01, -8.88671875e-02,  3.69140625e-01,  5.54199219e-02,\n",
       "       -3.63769531e-02, -1.48437500e-01,  9.13085938e-02,  2.47955322e-04,\n",
       "        2.67578125e-01, -1.63085938e-01,  1.19628906e-01,  2.77343750e-01,\n",
       "       -1.49414062e-01,  1.33789062e-01, -8.25195312e-02, -1.74804688e-01,\n",
       "       -1.77734375e-01,  2.06054688e-01,  5.07812500e-02, -2.08007812e-01,\n",
       "       -1.74804688e-01,  9.66796875e-02,  6.98242188e-02, -5.79833984e-04,\n",
       "        9.22851562e-02,  7.95898438e-02,  1.41601562e-01,  8.72802734e-03,\n",
       "       -8.05664062e-02,  4.80957031e-02,  2.49023438e-01, -1.64062500e-01,\n",
       "       -4.66308594e-02, -2.81250000e-01, -1.66015625e-01, -2.22656250e-01,\n",
       "       -2.32421875e-01,  1.32812500e-01,  4.15039062e-02,  1.15234375e-01,\n",
       "       -7.66601562e-02, -1.10839844e-01, -1.97265625e-01,  3.06396484e-02,\n",
       "       -1.03515625e-01,  2.49023438e-02, -2.52685547e-02,  3.39355469e-02,\n",
       "        4.29687500e-02, -1.44531250e-01,  2.12402344e-02,  2.28271484e-02,\n",
       "       -1.88476562e-01,  3.22265625e-01, -1.13281250e-01, -7.61718750e-02,\n",
       "        2.94921875e-01, -1.33789062e-01, -1.80664062e-02, -6.25610352e-03,\n",
       "       -1.62353516e-02,  5.98144531e-02,  1.21582031e-01,  4.17480469e-02],\n",
       "      dtype=float32)"
      ]
     },
     "metadata": {},
     "output_type": "display_data"
    }
   ],
   "source": [
    "import numpy as np\n",
    "embed_index = {}\n",
    "w2v_len = len(w2v_model.index_to_key)\n",
    "print(w2v_len)\n",
    "\n",
    "#use zip to format tuple\n",
    "for index, vector in zip(list(w2v_model.index_to_key), w2v_model.vectors):\n",
    "    embed_index[index] = np.asarray(vector, dtype='float32')\n",
    "\n",
    "display(embed_index['language'])"
   ]
  },
  {
   "cell_type": "markdown",
   "metadata": {},
   "source": [
    "<font color=\"green\">Expected output: </font>\n",
    "\n",
    ">  <font face='monospace' size=3>\\[&nbsp;2.30712891e-02&nbsp;&nbsp;1.68457031e-02&nbsp;&nbsp;1.54296875e-01&nbsp; 1.27929688e-01<br> </font>\n",
    ">  <font face='monospace' size=3>&nbsp;-2.67578125e-01&nbsp;&nbsp;3.51562500e-02&nbsp;&nbsp;1.19140625e-01&nbsp; 2.48046875e-01<br> </font>\n",
    ">  <font face='monospace' size=3>&nbsp;&nbsp;1.93359375e-01&nbsp;-7.95898438e-02&nbsp;&nbsp;1.46484375e-01&nbsp;-1.43554688e-01<br> </font>\n",
    ">  <font face='monospace' size=3>&nbsp;-3.04687500e-01&nbsp;&nbsp;3.46679688e-02&nbsp;-1.85546875e-02&nbsp; 1.06933594e-01<br> </font>\n",
    ">  <font face='monospace' size=3>&nbsp;-1.52343750e-01&nbsp;&nbsp;2.89062500e-01&nbsp;&nbsp;2.35595703e-02&nbsp;-3.80859375e-01<br> </font>\n",
    ">  <font face='monospace' size=3>&nbsp;&nbsp;1.09863281e-01&nbsp;&nbsp;4.41406250e-01&nbsp;&nbsp;3.75976562e-02&nbsp;-1.22680664e-02<br> </font>\n",
    ">  <font face='monospace' size=3>&nbsp;&nbsp;1.62353516e-02&nbsp;-2.24609375e-01&nbsp;&nbsp;7.61718750e-02&nbsp;-3.12500000e-02<br> </font>\n",
    ">  <font face='monospace' size=3>&nbsp;-2.16064453e-02&nbsp;&nbsp;1.49414062e-01&nbsp;-4.02832031e-02&nbsp;-4.46777344e-02<br> </font>\n",
    ">  <font face='monospace' size=3>&nbsp;-1.72851562e-01&nbsp;&nbsp;3.32031250e-02&nbsp;&nbsp;1.50390625e-01&nbsp;-5.05371094e-02<br> </font>\n",
    ">  <font face='monospace' size=3>&nbsp;&nbsp;2.72216797e-02&nbsp;&nbsp;3.00781250e-01&nbsp;-1.33789062e-01&nbsp;-7.56835938e-02<br> </font>\n",
    ">  <font face='monospace' size=3>&nbsp;&nbsp;1.93359375e-01&nbsp;-1.98242188e-01&nbsp;-1.27563477e-02&nbsp; 4.19921875e-01<br> </font>\n",
    ">  <font face='monospace' size=3>&nbsp;-2.19726562e-01&nbsp;&nbsp;1.44531250e-01&nbsp;-3.93066406e-02&nbsp; 1.94335938e-01<br> </font>\n",
    ">  <font face='monospace' size=3>&nbsp;-3.12500000e-01&nbsp;&nbsp;1.84570312e-01&nbsp;&nbsp;1.48773193e-04&nbsp;-1.67968750e-01<br> </font>\n",
    ">  <font face='monospace' size=3>&nbsp;-7.37304688e-02&nbsp;-3.12500000e-02&nbsp;&nbsp;1.57226562e-01&nbsp; 3.30078125e-01<br> </font>\n",
    ">  <font face='monospace' size=3>&nbsp;-1.42578125e-01&nbsp;-3.16406250e-01&nbsp;-7.32421875e-02&nbsp;-5.76171875e-02<br> </font>\n",
    ">  <font face='monospace' size=3>&nbsp;&nbsp;1.02050781e-01&nbsp;-1.08886719e-01&nbsp;&nbsp;1.24023438e-01&nbsp;-2.50244141e-02<br> </font>\n",
    ">  <font face='monospace' size=3>&nbsp;-2.49023438e-01&nbsp;&nbsp;1.25976562e-01&nbsp;-1.79687500e-01&nbsp; 3.32031250e-01<br> </font>\n",
    ">  <font face='monospace' size=3>&nbsp;&nbsp;7.14111328e-03&nbsp;&nbsp;2.51953125e-01&nbsp;&nbsp;4.34570312e-02&nbsp;-4.34570312e-02<br> </font>\n",
    ">  <font face='monospace' size=3>&nbsp;-3.90625000e-01&nbsp;&nbsp;1.76757812e-01&nbsp;-1.13525391e-02&nbsp;-1.97753906e-02<br> </font>\n",
    ">  <font face='monospace' size=3>&nbsp;&nbsp;2.79296875e-01&nbsp;&nbsp;2.36328125e-01&nbsp;&nbsp;1.19140625e-01&nbsp; 5.59082031e-02<br> </font>\n",
    ">  <font face='monospace' size=3>&nbsp;&nbsp;1.73828125e-01&nbsp;-1.10839844e-01&nbsp;-4.95605469e-02&nbsp; 2.13867188e-01<br> </font>\n",
    ">  <font face='monospace' size=3>&nbsp;&nbsp;6.17675781e-02&nbsp;&nbsp;1.38671875e-01&nbsp;-4.45556641e-03&nbsp; 2.55859375e-01<br> </font>\n",
    ">  <font face='monospace' size=3>&nbsp;&nbsp;1.80664062e-01&nbsp;&nbsp;5.88378906e-02&nbsp;-6.59179688e-02&nbsp;-2.08007812e-01<br> </font>\n",
    ">  <font face='monospace' size=3>&nbsp;-1.19140625e-01&nbsp;-1.57226562e-01&nbsp;&nbsp;5.02929688e-02&nbsp;-6.29882812e-02<br> </font>\n",
    ">  <font face='monospace' size=3>&nbsp;&nbsp;5.00488281e-02&nbsp;-7.27539062e-02&nbsp;&nbsp;1.74560547e-02&nbsp;-3.56445312e-02<br> </font>\n",
    ">  <font face='monospace' size=3>&nbsp;-1.93359375e-01&nbsp;&nbsp;3.93066406e-02&nbsp;-3.36914062e-02&nbsp;-1.07421875e-01<br> </font>\n",
    ">  <font face='monospace' size=3>&nbsp;&nbsp;5.78613281e-02&nbsp;-8.20312500e-02&nbsp;&nbsp;1.74560547e-02&nbsp;-1.65039062e-01<br> </font>\n",
    ">  <font face='monospace' size=3>&nbsp;&nbsp;1.46484375e-01&nbsp;-3.08837891e-02&nbsp;-3.86718750e-01&nbsp; 2.49023438e-01<br> </font>\n",
    ">  <font face='monospace' size=3>&nbsp;&nbsp;8.74023438e-02&nbsp;-2.15820312e-01&nbsp;-4.10156250e-02&nbsp; 1.60156250e-01<br> </font>\n",
    ">  <font face='monospace' size=3>&nbsp;&nbsp;1.85546875e-01&nbsp;-2.27050781e-02&nbsp;-3.73535156e-02&nbsp; 7.86132812e-02<br> </font>\n",
    ">  <font face='monospace' size=3>&nbsp;-1.46484375e-01&nbsp;&nbsp;6.78710938e-02&nbsp;&nbsp;1.26953125e-01&nbsp; 3.30078125e-01<br> </font>\n",
    ">  <font face='monospace' size=3>&nbsp;&nbsp;1.11328125e-01&nbsp;&nbsp;9.27734375e-02&nbsp;-3.45703125e-01&nbsp;-1.41601562e-01<br> </font>\n",
    ">  <font face='monospace' size=3>&nbsp;-5.29785156e-02&nbsp;-1.50390625e-01&nbsp;-7.81250000e-02&nbsp;-1.27929688e-01<br> </font>\n",
    ">  <font face='monospace' size=3>&nbsp;-4.02343750e-01&nbsp;-1.41601562e-01&nbsp;&nbsp;8.44726562e-02&nbsp; 1.08398438e-01<br> </font>\n",
    ">  <font face='monospace' size=3>&nbsp;-4.44335938e-02&nbsp;&nbsp;3.73535156e-02&nbsp;&nbsp;5.61523438e-02&nbsp;-1.91406250e-01<br> </font>\n",
    ">  <font face='monospace' size=3>&nbsp;&nbsp;1.54296875e-01&nbsp;-5.12695312e-02&nbsp;-6.49414062e-02&nbsp;-8.30078125e-02<br> </font>\n",
    ">  <font face='monospace' size=3>&nbsp;&nbsp;7.17773438e-02&nbsp;-1.33789062e-01&nbsp;&nbsp;1.05468750e-01&nbsp; 3.33984375e-01<br> </font>\n",
    ">  <font face='monospace' size=3>&nbsp;-1.08398438e-01&nbsp;&nbsp;1.91650391e-02&nbsp;&nbsp;2.14843750e-01&nbsp; 2.15820312e-01<br> </font>\n",
    ">  <font face='monospace' size=3>&nbsp;-1.05468750e-01&nbsp;-1.44531250e-01&nbsp;&nbsp;4.32128906e-02&nbsp;-2.71484375e-01<br> </font>\n",
    ">  <font face='monospace' size=3>&nbsp;-3.78906250e-01&nbsp;&nbsp;1.09863281e-01&nbsp;-8.15429688e-02&nbsp;-6.12792969e-02<br> </font>\n",
    ">  <font face='monospace' size=3>&nbsp;-1.33789062e-01&nbsp;&nbsp;9.71679688e-02&nbsp;-1.04370117e-02&nbsp;-1.21093750e-01<br> </font>\n",
    ">  <font face='monospace' size=3>&nbsp;-2.44140625e-01&nbsp;&nbsp;1.02050781e-01&nbsp;&nbsp;1.10839844e-01&nbsp;-1.00585938e-01<br> </font>\n",
    ">  <font face='monospace' size=3>&nbsp;&nbsp;1.71875000e-01&nbsp;-3.61328125e-02&nbsp;-4.39453125e-02&nbsp; 2.83203125e-01<br> </font>\n",
    ">  <font face='monospace' size=3>&nbsp;-8.93554688e-02&nbsp;-1.70898438e-01&nbsp;&nbsp;2.46093750e-01&nbsp; 1.16699219e-01<br> </font>\n",
    ">  <font face='monospace' size=3>&nbsp;&nbsp;8.39843750e-02&nbsp;-1.32812500e-01&nbsp;-1.61132812e-01&nbsp;-1.39648438e-01<br> </font>\n",
    ">  <font face='monospace' size=3>&nbsp;-8.59375000e-02&nbsp;-1.37695312e-01&nbsp;-9.32617188e-02&nbsp;-1.33789062e-01<br> </font>\n",
    ">  <font face='monospace' size=3>&nbsp;&nbsp;1.65039062e-01&nbsp;&nbsp;4.93164062e-02&nbsp;-1.21093750e-01&nbsp;-2.11914062e-01<br> </font>\n",
    ">  <font face='monospace' size=3>&nbsp;&nbsp;1.61132812e-01&nbsp;-1.07421875e-01&nbsp;-3.97949219e-02&nbsp;-3.51562500e-01<br> </font>\n",
    ">  <font face='monospace' size=3>&nbsp;-5.02929688e-02&nbsp;&nbsp;1.46484375e-01&nbsp;-4.68750000e-02&nbsp; 4.17480469e-02<br> </font>\n",
    ">  <font face='monospace' size=3>&nbsp;-1.27929688e-01&nbsp;-9.76562500e-02&nbsp;-2.46093750e-01&nbsp; 6.78710938e-02<br> </font>\n",
    ">  <font face='monospace' size=3>&nbsp;-2.30468750e-01&nbsp;&nbsp;1.80664062e-02&nbsp;&nbsp;3.54003906e-02&nbsp; 7.32421875e-02<br> </font>\n",
    ">  <font face='monospace' size=3>&nbsp;-2.23632812e-01&nbsp;-1.25976562e-01&nbsp;&nbsp;2.12890625e-01&nbsp;-3.93066406e-02<br> </font>\n",
    ">  <font face='monospace' size=3>&nbsp;-2.41699219e-02&nbsp;-9.61914062e-02&nbsp;&nbsp;7.51953125e-02&nbsp;-1.46484375e-01<br> </font>\n",
    ">  <font face='monospace' size=3>&nbsp;-1.49414062e-01&nbsp;-8.83789062e-02&nbsp;-4.88281250e-02&nbsp; 2.32421875e-01<br> </font>\n",
    ">  <font face='monospace' size=3>&nbsp;&nbsp;3.30078125e-01&nbsp;&nbsp;1.59179688e-01&nbsp;-2.35351562e-01&nbsp;-1.25976562e-01<br> </font>\n",
    ">  <font face='monospace' size=3>&nbsp;&nbsp;2.68554688e-02&nbsp;-5.29785156e-02&nbsp;-6.59179688e-02&nbsp;-2.17773438e-01<br> </font>\n",
    ">  <font face='monospace' size=3>&nbsp;-6.37817383e-03&nbsp;-2.53906250e-01&nbsp;&nbsp;2.28515625e-01&nbsp; 4.93164062e-02<br> </font>\n",
    ">  <font face='monospace' size=3>&nbsp;&nbsp;3.54003906e-02&nbsp;&nbsp;1.66992188e-01&nbsp;-7.27539062e-02&nbsp;-2.53906250e-01<br> </font>\n",
    ">  <font face='monospace' size=3>&nbsp;-1.34765625e-01&nbsp;&nbsp;3.69140625e-01&nbsp;&nbsp;1.83593750e-01&nbsp;-1.64062500e-01<br> </font>\n",
    ">  <font face='monospace' size=3>&nbsp;&nbsp;2.26562500e-01&nbsp;-8.88671875e-02&nbsp;&nbsp;3.69140625e-01&nbsp; 5.54199219e-02<br> </font>\n",
    ">  <font face='monospace' size=3>&nbsp;-3.63769531e-02&nbsp;-1.48437500e-01&nbsp;&nbsp;9.13085938e-02&nbsp; 2.47955322e-04<br> </font>\n",
    ">  <font face='monospace' size=3>&nbsp;&nbsp;2.67578125e-01&nbsp;-1.63085938e-01&nbsp;&nbsp;1.19628906e-01&nbsp; 2.77343750e-01<br> </font>\n",
    ">  <font face='monospace' size=3>&nbsp;-1.49414062e-01&nbsp;&nbsp;1.33789062e-01&nbsp;-8.25195312e-02&nbsp;-1.74804688e-01<br> </font>\n",
    ">  <font face='monospace' size=3>&nbsp;-1.77734375e-01&nbsp;&nbsp;2.06054688e-01&nbsp;&nbsp;5.07812500e-02&nbsp;-2.08007812e-01<br> </font>\n",
    ">  <font face='monospace' size=3>&nbsp;-1.74804688e-01&nbsp;&nbsp;9.66796875e-02&nbsp;&nbsp;6.98242188e-02&nbsp;-5.79833984e-04<br> </font>\n",
    ">  <font face='monospace' size=3>&nbsp;&nbsp;9.22851562e-02&nbsp;&nbsp;7.95898438e-02&nbsp;&nbsp;1.41601562e-01&nbsp; 8.72802734e-03<br> </font>\n",
    ">  <font face='monospace' size=3>&nbsp;-8.05664062e-02&nbsp;&nbsp;4.80957031e-02&nbsp;&nbsp;2.49023438e-01&nbsp;-1.64062500e-01<br> </font>\n",
    ">  <font face='monospace' size=3>&nbsp;-4.66308594e-02&nbsp;-2.81250000e-01&nbsp;-1.66015625e-01&nbsp;-2.22656250e-01<br> </font>\n",
    ">  <font face='monospace' size=3>&nbsp;-2.32421875e-01&nbsp;&nbsp;1.32812500e-01&nbsp;&nbsp;4.15039062e-02&nbsp; 1.15234375e-01<br> </font>\n",
    ">  <font face='monospace' size=3>&nbsp;-7.66601562e-02&nbsp;-1.10839844e-01&nbsp;-1.97265625e-01&nbsp; 3.06396484e-02<br> </font>\n",
    ">  <font face='monospace' size=3>&nbsp;-1.03515625e-01&nbsp;&nbsp;2.49023438e-02&nbsp;-2.52685547e-02&nbsp; 3.39355469e-02<br> </font>\n",
    ">  <font face='monospace' size=3>&nbsp;&nbsp;4.29687500e-02&nbsp;-1.44531250e-01&nbsp;&nbsp;2.12402344e-02&nbsp; 2.28271484e-02<br> </font>\n",
    ">  <font face='monospace' size=3>&nbsp;-1.88476562e-01&nbsp;&nbsp;3.22265625e-01&nbsp;-1.13281250e-01&nbsp;-7.61718750e-02<br> </font>\n",
    ">  <font face='monospace' size=3>&nbsp;&nbsp;2.94921875e-01&nbsp;-1.33789062e-01&nbsp;-1.80664062e-02&nbsp;-6.25610352e-03<br> </font>\n",
    ">  <font face='monospace' size=3>&nbsp;-1.62353516e-02&nbsp;&nbsp;5.98144531e-02&nbsp;&nbsp;1.21582031e-01&nbsp; 4.17480469e-02\\] </font>"
   ]
  },
  {
   "cell_type": "markdown",
   "metadata": {},
   "source": [
    "## Preprocessing\n",
    "Preprocess two tsv files here."
   ]
  },
  {
   "cell_type": "markdown",
   "metadata": {},
   "source": [
    "#### adjust the ratio of the two classes of training data\n",
    "In training data, the ratio of good phrases to bad phrases is about one to thirty. That will make training classification unsatisfactory, so we need to adjust the ratio. Reducing bad phrases and adding good phrases are both common way.\n",
    "\n",
    "<font color=\"red\">**[ TODO ]**</font> Please adjust the ratio of good phrases to bad phrases in any way which you think is the best and output the number of two class for demo.\n",
    "\n",
    "You need to explain why you choose this ratio and how you do it."
   ]
  },
  {
   "cell_type": "code",
   "execution_count": 104,
   "metadata": {},
   "outputs": [],
   "source": [
    "#There are only two types of label: 1 means good; 0 means bad.\n",
    "from sklearn.utils import shuffle\n",
    "bad_t = train[train['class'] == 0]\n",
    "good_t = train[train['class'] == 1]\n",
    "\n",
    "#because good:bad = 1:30, so I let 9/30 bad change to good to let good:bad close to 10:21\n",
    "#這樣既不會讓bad損失太多，也不會讓good突然多太多原本是bad的phrase\n",
    "adjust_ratio = 3/10\n",
    "\n",
    "bad_t_sample = bad_t.sample(frac=adjust_ratio, random_state=1)\n",
    "\n",
    "\n",
    "#transform bad_t_sample into good_t\n",
    "good_t = pd.concat([good_t, bad_t_sample])\n",
    "good_t['class'] = 1\n",
    "bad_t = bad_t[~bad_t.phrase.isin(bad_t_sample.phrase)] #drop bad_t which goes to good_t\n",
    "\n",
    "good_t = good_t.reset_index(drop=True)\n",
    "#print(good_t.head(1000))\n",
    "#print(bad_t.head(1000))\n",
    "tmp = good_t[good_t.phrase.isin(bad_t.phrase)]\n",
    "#print(tmp.head(1000)) is empty dataframe, so noting duplicate^^\n",
    "\n",
    "train = pd.concat([good_t, bad_t])\n",
    "train_shuffle = shuffle(train, random_state=1)\n",
    "\n",
    "#train_shuffle = shuffle(pd.concat([good_t, bad_t_sample]), random_state=42)"
   ]
  },
  {
   "cell_type": "code",
   "execution_count": 105,
   "metadata": {},
   "outputs": [
    {
     "name": "stdout",
     "output_type": "stream",
     "text": [
      "label 0: 135445\n",
      "label 1: 64153\n",
      "                                phrase  class\n",
      "0        slutty friends earn the title      0\n",
      "1              earn my graduate degree      1\n",
      "2    <UNK> earn rounder broadway <UNK>      0\n",
      "3                          earn a math      0\n",
      "4                         have earnt .      0\n",
      "..                                 ...    ...\n",
      "995              able to earn income ,      0\n",
      "996             Miller earn NHL weekly      1\n",
      "997             able to earn the money      0\n",
      "998                    Top reps earn ?      0\n",
      "999             to earn the visitors a      0\n",
      "\n",
      "[1000 rows x 2 columns]\n"
     ]
    }
   ],
   "source": [
    "#### print the number of training data of two classes\n",
    "train = train_shuffle.reset_index(drop=True)\n",
    "print(\"label 0: \" + str(len(train[train['class'] == 0])))\n",
    "print(\"label 1: \" + str(len(train[train['class'] == 1])))\n",
    "print(train.head(1000))"
   ]
  },
  {
   "cell_type": "markdown",
   "metadata": {},
   "source": [
    "#### number words\n",
    "Let each word have its unique number."
   ]
  },
  {
   "cell_type": "code",
   "execution_count": 106,
   "metadata": {},
   "outputs": [],
   "source": [
    "from tensorflow.keras.preprocessing.text import Tokenizer\n",
    "tok = Tokenizer()\n",
    "tok.fit_on_texts(pd.concat([train,test],ignore_index=True)['phrase'])\n",
    "vocab_size = len(tok.word_index) + 1"
   ]
  },
  {
   "cell_type": "markdown",
   "metadata": {},
   "source": [
    "#### convert phrases into numbers\n",
    "Because model can't read words, so we have to do this transform. \n",
    "\n",
    "The number should be same as the last step."
   ]
  },
  {
   "cell_type": "code",
   "execution_count": 107,
   "metadata": {},
   "outputs": [],
   "source": [
    "train_encoded_phrase = tok.texts_to_sequences(train['phrase'])\n",
    "test_encoded_phrase = tok.texts_to_sequences(test['phrase'])"
   ]
  },
  {
   "cell_type": "markdown",
   "metadata": {},
   "source": [
    "#### padding\n",
    "Make all phrases become same length. The longest phrases in two tsv have five tokens. Hence, we should make the phrases whose lengths less than five become five by adding 0. "
   ]
  },
  {
   "cell_type": "code",
   "execution_count": 108,
   "metadata": {},
   "outputs": [
    {
     "name": "stdout",
     "output_type": "stream",
     "text": [
      "[[5206  597    1    6  275]\n",
      " [   0    1   60  229   41]\n",
      " [  31    1 1823 2447   31]\n",
      " [   0    0    1    3 3729]\n",
      " [   0    0    0  103  161]]\n"
     ]
    }
   ],
   "source": [
    "from tensorflow.keras.preprocessing.sequence import pad_sequences\n",
    "max_ngram = 5\n",
    "X_train= pad_sequences(train_encoded_phrase, maxlen=max_ngram, padding='pre')\n",
    "X_test= pad_sequences(test_encoded_phrase, maxlen=max_ngram, padding='pre')\n",
    "print(X_train[:5])"
   ]
  },
  {
   "cell_type": "markdown",
   "metadata": {},
   "source": [
    "#### one hot encodding label"
   ]
  },
  {
   "cell_type": "code",
   "execution_count": 109,
   "metadata": {},
   "outputs": [
    {
     "name": "stdout",
     "output_type": "stream",
     "text": [
      "[[1. 0.]\n",
      " [0. 1.]\n",
      " [1. 0.]\n",
      " [1. 0.]\n",
      " [1. 0.]]\n"
     ]
    }
   ],
   "source": [
    "from tensorflow.keras.utils import to_categorical\n",
    "y_train=to_categorical(train['class'])\n",
    "y_test=to_categorical(test['class'])\n",
    "print(y_train[:5])"
   ]
  },
  {
   "cell_type": "markdown",
   "metadata": {},
   "source": [
    "#### split training data into train and validation"
   ]
  },
  {
   "cell_type": "code",
   "execution_count": 110,
   "metadata": {},
   "outputs": [],
   "source": [
    "from sklearn.model_selection import train_test_split\n",
    "X_train,X_val,y_train,y_val=train_test_split(X_train,y_train,test_size=0.20,random_state=42)"
   ]
  },
  {
   "cell_type": "markdown",
   "metadata": {},
   "source": [
    "#### creating the embedding matrix\n",
    "The embedding matrix is used by classification model. It should be a list of list. Each sub-list is an embedding vector of a word and the order of all embedding vectors should be same as *tokenizer*. It is stored in a dictionary. You can check it by `tok.word_index.items()`.\n",
    "\n",
    "<font color=\"red\">**[ TODO ]**</font> Make embedding matrix. If you don't need it for your classification model, you can skip it. We won't check it when demo. "
   ]
  },
  {
   "cell_type": "code",
   "execution_count": 111,
   "metadata": {},
   "outputs": [],
   "source": [
    "from keras.layers import Embedding\n",
    "\n",
    "vector_dimension = 300\n",
    "embedding_matrix = np.zeros((vocab_size, vector_dimension))\n",
    "\n",
    "for word, index in tok.word_index.items():\n",
    "    if index > vocab_size:\n",
    "        break\n",
    "    else:\n",
    "        try:\n",
    "            embedding_matrix[index] = embeddings_index[word]\n",
    "        except:\n",
    "            continue\n"
   ]
  },
  {
   "cell_type": "markdown",
   "metadata": {},
   "source": [
    "## Classification"
   ]
  },
  {
   "cell_type": "markdown",
   "metadata": {},
   "source": [
    "#### build model\n",
    "<font color=\"red\">**[ TODO ]**</font> Please build your classification model by ***keras*** here. \n",
    "\n",
    "You **must** use the pre-trained word2vec model to represent the words of phrases."
   ]
  },
  {
   "cell_type": "code",
   "execution_count": 112,
   "metadata": {},
   "outputs": [],
   "source": [
    "import tensorflow as tf\n",
    "from keras.models import Sequential\n",
    "from keras import layers\n",
    "from keras.layers import Dense\n",
    "\n",
    "param = [layers.Embedding(input_dim=embedding_matrix.shape[0], output_dim=3, input_length=5),\n",
    "        tf.keras.layers.LSTM(4),layers.Dense(units=128),layers.Dense(units=2, activation='sigmoid'),]\n",
    "model = tf.keras.models.Sequential(param)\n",
    "model.compile(optimizer='adam', loss=tf.keras.losses.binary_crossentropy, metrics=['accuracy'])"
   ]
  },
  {
   "cell_type": "code",
   "execution_count": 113,
   "metadata": {},
   "outputs": [
    {
     "name": "stdout",
     "output_type": "stream",
     "text": [
      "Model: \"sequential_7\"\n",
      "_________________________________________________________________\n",
      "Layer (type)                 Output Shape              Param #   \n",
      "=================================================================\n",
      "embedding_7 (Embedding)      (None, 5, 3)              27447     \n",
      "_________________________________________________________________\n",
      "lstm_7 (LSTM)                (None, 4)                 128       \n",
      "_________________________________________________________________\n",
      "dense_14 (Dense)             (None, 128)               640       \n",
      "_________________________________________________________________\n",
      "dense_15 (Dense)             (None, 2)                 258       \n",
      "=================================================================\n",
      "Total params: 28,473\n",
      "Trainable params: 28,473\n",
      "Non-trainable params: 0\n",
      "_________________________________________________________________\n",
      "None\n"
     ]
    }
   ],
   "source": [
    "print(model.summary())"
   ]
  },
  {
   "cell_type": "markdown",
   "metadata": {},
   "source": [
    "#### train\n",
    "Train classification model here.\n",
    "\n",
    "<font color=\"red\">**[ TODO ]**</font> Adjust the hyperparameter to optimize the validation accuracy and validation loss.\n",
    "\n",
    "* The higher the accuracy, the better; the lower the validation, the better.\n",
    "* **number of epoch** and **batch size** are the most important"
   ]
  },
  {
   "cell_type": "code",
   "execution_count": 114,
   "metadata": {},
   "outputs": [
    {
     "name": "stdout",
     "output_type": "stream",
     "text": [
      "Epoch 1/5\n",
      "12283/12283 [==============================] - 58s 4ms/step - loss: 0.6246 - accuracy: 0.6811\n",
      "Epoch 2/5\n",
      "12283/12283 [==============================] - 57s 5ms/step - loss: 0.6095 - accuracy: 0.6991\n",
      "Epoch 3/5\n",
      "12283/12283 [==============================] - 56s 5ms/step - loss: 0.6015 - accuracy: 0.7035\n",
      "Epoch 4/5\n",
      "12283/12283 [==============================] - 58s 5ms/step - loss: 0.5962 - accuracy: 0.7060\n",
      "Epoch 5/5\n",
      "12283/12283 [==============================] - 57s 5ms/step - loss: 0.5918 - accuracy: 0.7080\n"
     ]
    },
    {
     "data": {
      "text/plain": [
       "<keras.callbacks.History at 0x7f4d45777a58>"
      ]
     },
     "execution_count": 114,
     "metadata": {},
     "output_type": "execute_result"
    }
   ],
   "source": [
    "#model.fit(X_train,y_train,validation_data=(X_val,y_val),......)\n",
    "model.fit(X_train, y_train, batch_size=13, epochs=5)"
   ]
  },
  {
   "cell_type": "markdown",
   "metadata": {},
   "source": [
    "#### test\n",
    "\n",
    "<font color=\"red\">**[ TODO ]**</font> Test your model by test.tsv and output the accuracy. Your accuracy need to beat baseline: **0.97**."
   ]
  },
  {
   "cell_type": "code",
   "execution_count": 115,
   "metadata": {},
   "outputs": [
    {
     "name": "stdout",
     "output_type": "stream",
     "text": [
      "63/63 [==============================] - 1s 2ms/step - loss: 0.3150 - accuracy: 0.9655\n",
      "0.965499997138977\n"
     ]
    }
   ],
   "source": [
    "accuracy = model.evaluate(X_test,y_test)\n",
    "print(accuracy[1])"
   ]
  },
  {
   "cell_type": "markdown",
   "metadata": {},
   "source": [
    "## Show wrong prediction results\n",
    "Observing wrong prediction result may help you improve your prediction.\n",
    "\n",
    "<font color=\"red\">**[ TODO ]**</font> show the wrong prediction results like this: \n",
    "\n",
    "<img src=\"https://imgur.com/BOTMyZH.jpg\" width=30%><br>"
   ]
  },
  {
   "cell_type": "code",
   "execution_count": 116,
   "metadata": {},
   "outputs": [
    {
     "name": "stderr",
     "output_type": "stream",
     "text": [
      "/home/youthink/notebook/jupyterenv/lib/python3.6/site-packages/ipykernel_launcher.py:6: SettingWithCopyWarning: \n",
      "A value is trying to be set on a copy of a slice from a DataFrame.\n",
      "Try using .loc[row_indexer,col_indexer] = value instead\n",
      "\n",
      "See the caveats in the documentation: https://pandas.pydata.org/pandas-docs/stable/user_guide/indexing.html#returning-a-view-versus-a-copy\n",
      "  \n"
     ]
    },
    {
     "data": {
      "text/html": [
       "<div>\n",
       "<style scoped>\n",
       "    .dataframe tbody tr th:only-of-type {\n",
       "        vertical-align: middle;\n",
       "    }\n",
       "\n",
       "    .dataframe tbody tr th {\n",
       "        vertical-align: top;\n",
       "    }\n",
       "\n",
       "    .dataframe thead th {\n",
       "        text-align: right;\n",
       "    }\n",
       "</style>\n",
       "<table border=\"1\" class=\"dataframe\">\n",
       "  <thead>\n",
       "    <tr style=\"text-align: right;\">\n",
       "      <th></th>\n",
       "      <th>phrase</th>\n",
       "      <th>class</th>\n",
       "      <th>predict</th>\n",
       "    </tr>\n",
       "  </thead>\n",
       "  <tbody>\n",
       "    <tr>\n",
       "      <th>55</th>\n",
       "      <td>earn an edge</td>\n",
       "      <td>0</td>\n",
       "      <td>1</td>\n",
       "    </tr>\n",
       "    <tr>\n",
       "      <th>65</th>\n",
       "      <td>earn you extra income</td>\n",
       "      <td>1</td>\n",
       "      <td>0</td>\n",
       "    </tr>\n",
       "    <tr>\n",
       "      <th>85</th>\n",
       "      <td>earn barely enough</td>\n",
       "      <td>1</td>\n",
       "      <td>0</td>\n",
       "    </tr>\n",
       "    <tr>\n",
       "      <th>102</th>\n",
       "      <td>earn a 4.0 grade point</td>\n",
       "      <td>1</td>\n",
       "      <td>0</td>\n",
       "    </tr>\n",
       "    <tr>\n",
       "      <th>154</th>\n",
       "      <td>earn that credit</td>\n",
       "      <td>1</td>\n",
       "      <td>0</td>\n",
       "    </tr>\n",
       "    <tr>\n",
       "      <th>...</th>\n",
       "      <td>...</td>\n",
       "      <td>...</td>\n",
       "      <td>...</td>\n",
       "    </tr>\n",
       "    <tr>\n",
       "      <th>1728</th>\n",
       "      <td>earn equality</td>\n",
       "      <td>0</td>\n",
       "      <td>1</td>\n",
       "    </tr>\n",
       "    <tr>\n",
       "      <th>1790</th>\n",
       "      <td>innings to earn the victory</td>\n",
       "      <td>0</td>\n",
       "      <td>1</td>\n",
       "    </tr>\n",
       "    <tr>\n",
       "      <th>1791</th>\n",
       "      <td>earn money every time someone</td>\n",
       "      <td>0</td>\n",
       "      <td>1</td>\n",
       "    </tr>\n",
       "    <tr>\n",
       "      <th>1808</th>\n",
       "      <td>- money earn -</td>\n",
       "      <td>0</td>\n",
       "      <td>1</td>\n",
       "    </tr>\n",
       "    <tr>\n",
       "      <th>1818</th>\n",
       "      <td>earn a rental income</td>\n",
       "      <td>1</td>\n",
       "      <td>0</td>\n",
       "    </tr>\n",
       "  </tbody>\n",
       "</table>\n",
       "<p>69 rows × 3 columns</p>\n",
       "</div>"
      ],
      "text/plain": [
       "                             phrase  class  predict\n",
       "55                     earn an edge      0        1\n",
       "65            earn you extra income      1        0\n",
       "85               earn barely enough      1        0\n",
       "102          earn a 4.0 grade point      1        0\n",
       "154                earn that credit      1        0\n",
       "...                             ...    ...      ...\n",
       "1728                  earn equality      0        1\n",
       "1790    innings to earn the victory      0        1\n",
       "1791  earn money every time someone      0        1\n",
       "1808                 - money earn -      0        1\n",
       "1818           earn a rental income      1        0\n",
       "\n",
       "[69 rows x 3 columns]"
      ]
     },
     "metadata": {},
     "output_type": "display_data"
    }
   ],
   "source": [
    "prediction = np.round(model.predict(X_test))\n",
    "tmp = np.equal(prediction, y_test)\n",
    "tmp = [not h[0] or not h[1] for h in tmp]\n",
    "\n",
    "wrong_test = test[tmp]\n",
    "wrong_test['predict'] = 1\n",
    "for i in range(0,len(wrong_test)):\n",
    "    if wrong_test['class'].values[i]==1:\n",
    "        wrong_test['predict'].values[i] = 0\n",
    "\n",
    "#print(wrong_test(index=False))\n",
    "display(wrong_test)\n"
   ]
  },
  {
   "cell_type": "markdown",
   "metadata": {},
   "source": [
    "## TA's Notes\n",
    "\n",
    "If you complete the Assignment, please use [this link](https://docs.google.com/spreadsheets/d/1QGeYl5dsD9sFO9SYg4DIKk-xr-yGjRDOOLKZqCLDv2E/edit#gid=807282025) to reserve demo time.  \n",
    "The score is only given after TAs review your implementation, so <u>**make sure you make a appointment with a TA before you miss the deadline**</u> .  <br>After demo, please upload your assignment to eeclass. You just need to hand in this ipynb file and rename it as XXXXXXXXX(Your student ID).ipynb.\n",
    "<br>Note that **late submission will not be allowed**."
   ]
  },
  {
   "cell_type": "markdown",
   "metadata": {},
   "source": [
    "## Learning Resource\n",
    "[Deep Learning with Python](https://tanthiamhuat.files.wordpress.com/2018/03/deeplearningwithpython.pdf)\n",
    "\n",
    "[Classification on IMDB](https://keras.io/examples/nlp/bidirectional_lstm_imdb/)"
   ]
  }
 ],
 "metadata": {
  "kernelspec": {
   "display_name": "Python 3",
   "language": "python",
   "name": "python3"
  },
  "language_info": {
   "codemirror_mode": {
    "name": "ipython",
    "version": 3
   },
   "file_extension": ".py",
   "mimetype": "text/x-python",
   "name": "python",
   "nbconvert_exporter": "python",
   "pygments_lexer": "ipython3",
   "version": "3.6.9"
  }
 },
 "nbformat": 4,
 "nbformat_minor": 4
}
