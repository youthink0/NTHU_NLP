{
 "cells": [
  {
   "cell_type": "markdown",
   "metadata": {
    "id": "skPDgNS58rFf"
   },
   "source": [
    "# Week 13: Example Sentences Classification\n",
    "In the last two assignment, we use deep learning method to do classification task. We can get good result by deep learning, but we can hardly explain the classification result(i.e., we don't know why the phrase is classified as \"good\" phrase). Hence, in this assignment, we want you do classification again, but do it by traditional machine learning method. In this way, you can know *why* more. We want you implement this on example sentences(e.g., \"This song has a brilliant piano intro.\" for word \"brilliant\").\n",
    "\n",
    "[Here](https://drive.google.com/drive/folders/1ij20ecLlI1Zh5CdMAa91SXQzmpKfdBdJ?usp=sharing) are two files needed for this task: **train.jsonl** & **test.jsonl**. In these files, each line records one example sentence with its label. There're two types of labels: ***positive*** means it's *good* example sentence;  ***negative*** means it's *bad* example sentence."
   ]
  },
  {
   "cell_type": "markdown",
   "metadata": {
    "id": "e3jvUPRw8rFi"
   },
   "source": [
    "## Read Data\n",
    "We use dataframe to keep data in this assignment."
   ]
  },
  {
   "cell_type": "code",
   "execution_count": 1,
   "metadata": {
    "id": "dtHcqH788rFj"
   },
   "outputs": [],
   "source": [
    "import json\n",
    "import pandas as pd"
   ]
  },
  {
   "cell_type": "code",
   "execution_count": 2,
   "metadata": {
    "id": "IMYSnsTm8rFk"
   },
   "outputs": [],
   "source": [
    "def read_data_to_df(path):\n",
    "    labels = []\n",
    "    sentences = []\n",
    "    with open(path, 'r') as f:\n",
    "        for line in f.readlines():\n",
    "            line = json.loads(line)\n",
    "            sentences.append(line['text'])\n",
    "            labels.append(line['label'])\n",
    "    return pd.DataFrame({'sent':sentences,'label':labels})  "
   ]
  },
  {
   "cell_type": "code",
   "execution_count": 3,
   "metadata": {
    "id": "fiO7gnYN8rFl",
    "outputId": "40fed14f-db99-4b3d-fdba-c877a45eb12d"
   },
   "outputs": [
    {
     "name": "stdout",
     "output_type": "stream",
     "text": [
      "                                                sent     label\n",
      "0         My children threw a birthday party for me.  positive\n",
      "1  Marketing on social networking sites is a fast...  positive\n",
      "2                You pillock, look what you've done!  positive\n",
      "3      He scored three touchdowns early in the game.  positive\n",
      "4          His abrupt manner makes me uncomfortable.  positive\n",
      "                                                sent     label\n",
      "0  I've just spotted Mark - he's over there, near...  positive\n",
      "1  After repricing, the bonds yield a much higher...  positive\n",
      "2             I admire her staunchness and fidelity.  positive\n",
      "3  The party's leader is in favour of the treaty ...  positive\n",
      "4  About 20 companies are working on treatments f...  positive\n"
     ]
    }
   ],
   "source": [
    "train = read_data_to_df('data/train.jsonl')\n",
    "print(train.head())\n",
    "test = read_data_to_df('data/test.jsonl')\n",
    "print(test.head())"
   ]
  },
  {
   "cell_type": "markdown",
   "metadata": {
    "id": "fYwKypbh8rFm"
   },
   "source": [
    "## Extract Features\n",
    "Traditional machine learning need data scientists to observe data and find out some useful information. \n",
    "\n",
    "Here is an example:"
   ]
  },
  {
   "cell_type": "code",
   "execution_count": 4,
   "metadata": {
    "id": "8KEgpP2J8rFm",
    "outputId": "36c2567b-2ef3-4b4f-c51e-f2a1053c4093"
   },
   "outputs": [
    {
     "name": "stdout",
     "output_type": "stream",
     "text": [
      "0.058014915590512126\n"
     ]
    }
   ],
   "source": [
    "import re\n",
    "# for positive\n",
    "spec = 0\n",
    "count=0\n",
    "for i in train[train['label'] == \"positive\"][\"sent\"]:\n",
    "    if len(re.sub('[\\w\\s]','',i)) >3:\n",
    "        spec+=1\n",
    "    count+=1\n",
    "print(spec/count)"
   ]
  },
  {
   "cell_type": "code",
   "execution_count": 5,
   "metadata": {
    "id": "EF-utx8V8rFn",
    "outputId": "045da3bf-2ddf-4a3b-a7a8-69a3a7d4fb0e"
   },
   "outputs": [
    {
     "name": "stdout",
     "output_type": "stream",
     "text": [
      "0.3834226149596325\n"
     ]
    }
   ],
   "source": [
    "spec = 0\n",
    "count=0\n",
    "for i in train[train['label'] == \"negative\"][\"sent\"]:\n",
    "    if len(re.sub('[\\w\\s]','',i)) >3:\n",
    "        spec+=1\n",
    "    count+=1\n",
    "print(spec/count)"
   ]
  },
  {
   "cell_type": "markdown",
   "metadata": {
    "id": "hjjEz-ft8rFo"
   },
   "source": [
    "After some experiment, we found 38% of bad example sentences have more than 3 punctuations. In contrast, only 5.8% of good example sentences have more than 3 punctuations. Hence, it seems that it is a nice feature to distinguish good and bad example sentences, so we add this feature."
   ]
  },
  {
   "cell_type": "code",
   "execution_count": 6,
   "metadata": {
    "id": "Xui1SJQH8rFo"
   },
   "outputs": [],
   "source": [
    "train[\"more than three punc\"] = [1 if len(re.sub('[\\w\\s]','',i)) >3 else 0 for i in train[\"sent\"]]\n",
    "test[\"more than three punc\"] = [1 if len(re.sub('[\\w\\s]','',i))>3 else 0 for i in test[\"sent\"]]"
   ]
  },
  {
   "cell_type": "code",
   "execution_count": 7,
   "metadata": {
    "id": "NRWFCH6g8rFo",
    "outputId": "3dac5009-7cf5-404e-c168-6787a7578bd3"
   },
   "outputs": [
    {
     "data": {
      "text/html": [
       "<div>\n",
       "<style scoped>\n",
       "    .dataframe tbody tr th:only-of-type {\n",
       "        vertical-align: middle;\n",
       "    }\n",
       "\n",
       "    .dataframe tbody tr th {\n",
       "        vertical-align: top;\n",
       "    }\n",
       "\n",
       "    .dataframe thead th {\n",
       "        text-align: right;\n",
       "    }\n",
       "</style>\n",
       "<table border=\"1\" class=\"dataframe\">\n",
       "  <thead>\n",
       "    <tr style=\"text-align: right;\">\n",
       "      <th></th>\n",
       "      <th>sent</th>\n",
       "      <th>label</th>\n",
       "      <th>more than three punc</th>\n",
       "    </tr>\n",
       "  </thead>\n",
       "  <tbody>\n",
       "    <tr>\n",
       "      <th>0</th>\n",
       "      <td>My children threw a birthday party for me.</td>\n",
       "      <td>positive</td>\n",
       "      <td>0</td>\n",
       "    </tr>\n",
       "    <tr>\n",
       "      <th>1</th>\n",
       "      <td>Marketing on social networking sites is a fast...</td>\n",
       "      <td>positive</td>\n",
       "      <td>0</td>\n",
       "    </tr>\n",
       "    <tr>\n",
       "      <th>2</th>\n",
       "      <td>You pillock, look what you've done!</td>\n",
       "      <td>positive</td>\n",
       "      <td>0</td>\n",
       "    </tr>\n",
       "    <tr>\n",
       "      <th>3</th>\n",
       "      <td>He scored three touchdowns early in the game.</td>\n",
       "      <td>positive</td>\n",
       "      <td>0</td>\n",
       "    </tr>\n",
       "    <tr>\n",
       "      <th>4</th>\n",
       "      <td>His abrupt manner makes me uncomfortable.</td>\n",
       "      <td>positive</td>\n",
       "      <td>0</td>\n",
       "    </tr>\n",
       "  </tbody>\n",
       "</table>\n",
       "</div>"
      ],
      "text/plain": [
       "                                                sent     label  \\\n",
       "0         My children threw a birthday party for me.  positive   \n",
       "1  Marketing on social networking sites is a fast...  positive   \n",
       "2                You pillock, look what you've done!  positive   \n",
       "3      He scored three touchdowns early in the game.  positive   \n",
       "4          His abrupt manner makes me uncomfortable.  positive   \n",
       "\n",
       "   more than three punc  \n",
       "0                     0  \n",
       "1                     0  \n",
       "2                     0  \n",
       "3                     0  \n",
       "4                     0  "
      ]
     },
     "execution_count": 7,
     "metadata": {},
     "output_type": "execute_result"
    }
   ],
   "source": [
    "train.head()"
   ]
  },
  {
   "cell_type": "code",
   "execution_count": null,
   "metadata": {},
   "outputs": [],
   "source": []
  },
  {
   "cell_type": "markdown",
   "metadata": {
    "id": "DqcP3Ddv8rFp"
   },
   "source": [
    "<font color=\"red\">**[ TODO ]**</font> Please observe the data and extract at least three features and add them to the dataframe."
   ]
  },
  {
   "cell_type": "code",
   "execution_count": null,
   "metadata": {},
   "outputs": [],
   "source": []
  },
  {
   "cell_type": "code",
   "execution_count": 102,
   "metadata": {
    "id": "s3Gfv_Je8rFp"
   },
   "outputs": [],
   "source": [
    "def exceed_limit_uppercase(i):  #以大寫數量區分\n",
    "    limit = 3\n",
    "    if(len(re.sub(r'[^A-Z]', '', i)) > limit):\n",
    "        return True \n",
    "    \n",
    "    return False"
   ]
  },
  {
   "cell_type": "code",
   "execution_count": 103,
   "metadata": {},
   "outputs": [],
   "source": [
    "train[\"exceed_limit_uppercase\"] = [1 if exceed_limit_uppercase(i) else 0 for i in train[\"sent\"]]\n",
    "test[\"exceed_limit_uppercase\"] = [1 if exceed_limit_uppercase(i) else 0 for i in test[\"sent\"]]"
   ]
  },
  {
   "cell_type": "code",
   "execution_count": 137,
   "metadata": {},
   "outputs": [
    {
     "name": "stdout",
     "output_type": "stream",
     "text": [
      "15.81438578819651\n",
      "11.071770207790827\n"
     ]
    }
   ],
   "source": [
    "# Find average length\n",
    "len_sum = 0\n",
    "neg = train[train['label'] == \"negative\"][\"sent\"]\n",
    "\n",
    "for i in neg:\n",
    "    len_sum += len(i.split())\n",
    "    #print(len(i.split()))\n",
    "neg_avg_len = len_sum / neg.count()\n",
    "print(neg_avg_len)\n",
    "\n",
    "\n",
    "len_sum = 0\n",
    "pos = train[train['label'] == \"positive\"][\"sent\"]\n",
    "\n",
    "for i in pos:\n",
    "    len_sum += len(i.split())\n",
    "    #print(len(i.split()))\n",
    "pos_avg_len = len_sum / pos.count()\n",
    "print(pos_avg_len)\n",
    "\n",
    "def exceed_limit_len_range(i):  #以字串長度區分\n",
    "    limit = 12\n",
    "    if (len(i) < limit):\n",
    "        return True\n",
    "    \n",
    "    return False   "
   ]
  },
  {
   "cell_type": "code",
   "execution_count": 138,
   "metadata": {},
   "outputs": [],
   "source": [
    "train[\"exceed_limit_len_range\"] = [1 if exceed_limit_len_range(i) else 0 for i in train[\"sent\"]]\n",
    "test[\"exceed_limit_len_range\"] = [1 if exceed_limit_len_range(i) else 0 for i in test[\"sent\"]]"
   ]
  },
  {
   "cell_type": "code",
   "execution_count": 126,
   "metadata": {},
   "outputs": [],
   "source": [
    "def exceed_limit_numbers(i):  #已出現數字數量區分\n",
    "    limit = 3\n",
    "    if(len(re.sub(r'[^0-9]', '', i)) > limit):\n",
    "        return True \n",
    "\n",
    "    return False"
   ]
  },
  {
   "cell_type": "code",
   "execution_count": 127,
   "metadata": {},
   "outputs": [],
   "source": [
    "train[\"exceed_limit_numbers\"] = [1 if exceed_limit_numbers(i) else 0 for i in train[\"sent\"]]\n",
    "test[\"exceed_limit_numbers\"] = [1 if exceed_limit_numbers(i) else 0 for i in test[\"sent\"]]"
   ]
  },
  {
   "cell_type": "markdown",
   "metadata": {
    "id": "JjzzDXsV8rFp"
   },
   "source": [
    "## Train\n",
    "Now, it's time to evaluate whether the features just selected is useful to classify. We use [Bernoulli Naive Bayes model](https://scikit-learn.org/stable/modules/naive_bayes.html#bernoulli-naive-bayes) to train training data. "
   ]
  },
  {
   "cell_type": "code",
   "execution_count": 139,
   "metadata": {
    "id": "gGec8PDW8rFq"
   },
   "outputs": [],
   "source": [
    "from sklearn.naive_bayes import BernoulliNB\n",
    "bnb = BernoulliNB()"
   ]
  },
  {
   "cell_type": "markdown",
   "metadata": {
    "id": "IffCrLvf8rFq"
   },
   "source": [
    "<font color=\"red\">**[ TODO ]**</font> Please adjust the `selected_features` list and train the model.\n",
    "\n",
    "***Don't*** use other model in this assignment."
   ]
  },
  {
   "cell_type": "code",
   "execution_count": 140,
   "metadata": {
    "id": "UBazhh0x8rFq"
   },
   "outputs": [],
   "source": [
    "selected_features = [\"more than three punc\", \"exceed_limit_len_range\", \"exceed_limit_uppercase\", \"exceed_limit_numbers\"]"
   ]
  },
  {
   "cell_type": "code",
   "execution_count": 141,
   "metadata": {
    "id": "FWeeyHj38rFq"
   },
   "outputs": [],
   "source": [
    "y_pred = bnb.fit(train[selected_features], train['label']).predict(test[selected_features])"
   ]
  },
  {
   "cell_type": "markdown",
   "metadata": {
    "id": "43FpNagS8rFr"
   },
   "source": [
    "## Test\n",
    "Test the model and get the accuracy of the prediction on testing data. \n",
    "\n",
    "There're four baselines for this task:\n",
    "```\n",
    "1. simple baseline: 0.65\n",
    "2. medium baseline: 0.72\n",
    "3. strong baseline: 0.8\n",
    "4. boss baseline: 0.85\n",
    "```\n",
    "The more the baseline you pass, the more higher the grade you can get.\n",
    "\n",
    "*hint: If the result isn't ideal, you can print the wrong prediction data and re-observe but only focus on wrong data to extract other features."
   ]
  },
  {
   "cell_type": "code",
   "execution_count": 142,
   "metadata": {
    "id": "FYOHrFtk8rFr",
    "outputId": "39a87798-7645-4a14-a98a-856dedc5c8ef"
   },
   "outputs": [
    {
     "name": "stdout",
     "output_type": "stream",
     "text": [
      "0.7661861074705112\n"
     ]
    }
   ],
   "source": [
    "print((test['label'] == y_pred).sum()/len(test))"
   ]
  },
  {
   "cell_type": "markdown",
   "metadata": {
    "id": "pLkF-92v8rFr"
   },
   "source": [
    "## TA's Notes\n",
    "\n",
    "If you complete the Assignment, please use [this link](https://docs.google.com/spreadsheets/d/1QGeYl5dsD9sFO9SYg4DIKk-xr-yGjRDOOLKZqCLDv2E/edit#gid=1031097651) to reserve demo time.  \n",
    "The score is only given after TAs review your implementation, so <u>**make sure you make a appointment with a TA before you miss the deadline**</u> .  <br>After demo, please upload your assignment to eeclass. You just need to hand in this ipynb file and rename it as XXXXXXXXX(Your student ID).ipynb.\n",
    "<br>Note that **late submission will not be allowed**."
   ]
  }
 ],
 "metadata": {
  "colab": {
   "collapsed_sections": [],
   "name": "Week13_example_sentences_classification.ipynb",
   "provenance": []
  },
  "kernelspec": {
   "display_name": "Python 3",
   "language": "python",
   "name": "python3"
  },
  "language_info": {
   "codemirror_mode": {
    "name": "ipython",
    "version": 3
   },
   "file_extension": ".py",
   "mimetype": "text/x-python",
   "name": "python",
   "nbconvert_exporter": "python",
   "pygments_lexer": "ipython3",
   "version": "3.6.9"
  }
 },
 "nbformat": 4,
 "nbformat_minor": 1
}
